{
 "cells": [
  {
   "cell_type": "markdown",
   "metadata": {},
   "source": [
    "# Seeing how much data is lost by the scRNA HiC data"
   ]
  },
  {
   "cell_type": "code",
   "execution_count": 137,
   "metadata": {},
   "outputs": [],
   "source": [
    "library(dplyr)\n",
    "wanted <- read.table('/extra/repos/jupyter/wolff_2019/wanted.txt', stringsAsFactors = F)\n",
    "full <- read.table('/extra/repos/jupyter/wolff_2019/fold2.txt', stringsAsFactors = F)"
   ]
  },
  {
   "cell_type": "code",
   "execution_count": 141,
   "metadata": {},
   "outputs": [
    {
     "name": "stderr",
     "output_type": "stream",
     "text": [
      "Full ls output:\n"
     ]
    },
    {
     "data": {
      "text/html": [
       "<table>\n",
       "<thead><tr><th scope=col>V1</th><th scope=col>V2</th><th scope=col>V3</th><th scope=col>V4</th><th scope=col>V5</th><th scope=col>V6</th><th scope=col>V7</th><th scope=col>V8</th><th scope=col>V9</th></tr></thead>\n",
       "<tbody>\n",
       "\t<tr><td>-rw-rw-r--                </td><td>1                         </td><td>wolffj                    </td><td>wolffj                    </td><td>33K                       </td><td>Apr                       </td><td>17                        </td><td>17:13                     </td><td>AAAAAAAA_AAAAAAAA_R1.fastq</td></tr>\n",
       "\t<tr><td>-rw-rw-r--                </td><td>1                         </td><td>wolffj                    </td><td>wolffj                    </td><td>33K                       </td><td>Apr                       </td><td>17                        </td><td>17:13                     </td><td>AAAAAAAA_AAAAAAAA_R2.fastq</td></tr>\n",
       "\t<tr><td>-rw-rw-r--                </td><td>1                         </td><td>wolffj                    </td><td>wolffj                    </td><td>359                       </td><td>Apr                       </td><td>17                        </td><td>17:06                     </td><td>AAAAAAAA_AAAAAAAT_R1.fastq</td></tr>\n",
       "\t<tr><td>-rw-rw-r--                </td><td>1                         </td><td>wolffj                    </td><td>wolffj                    </td><td>359                       </td><td>Apr                       </td><td>17                        </td><td>17:06                     </td><td>AAAAAAAA_AAAAAAAT_R2.fastq</td></tr>\n",
       "\t<tr><td>-rw-rw-r--                </td><td>1                         </td><td>wolffj                    </td><td>wolffj                    </td><td>358                       </td><td>Apr                       </td><td>17                        </td><td>17:02                     </td><td>AAAAAAAA_AAAAAATA_R1.fastq</td></tr>\n",
       "\t<tr><td>-rw-rw-r--                </td><td>1                         </td><td>wolffj                    </td><td>wolffj                    </td><td>358                       </td><td>Apr                       </td><td>17                        </td><td>17:02                     </td><td>AAAAAAAA_AAAAAATA_R2.fastq</td></tr>\n",
       "</tbody>\n",
       "</table>\n"
      ],
      "text/latex": [
       "\\begin{tabular}{r|lllllllll}\n",
       " V1 & V2 & V3 & V4 & V5 & V6 & V7 & V8 & V9\\\\\n",
       "\\hline\n",
       "\t -rw-rw-r--                     & 1                              & wolffj                         & wolffj                         & 33K                            & Apr                            & 17                             & 17:13                          & AAAAAAAA\\_AAAAAAAA\\_R1.fastq\\\\\n",
       "\t -rw-rw-r--                     & 1                              & wolffj                         & wolffj                         & 33K                            & Apr                            & 17                             & 17:13                          & AAAAAAAA\\_AAAAAAAA\\_R2.fastq\\\\\n",
       "\t -rw-rw-r--                     & 1                              & wolffj                         & wolffj                         & 359                            & Apr                            & 17                             & 17:06                          & AAAAAAAA\\_AAAAAAAT\\_R1.fastq\\\\\n",
       "\t -rw-rw-r--                     & 1                              & wolffj                         & wolffj                         & 359                            & Apr                            & 17                             & 17:06                          & AAAAAAAA\\_AAAAAAAT\\_R2.fastq\\\\\n",
       "\t -rw-rw-r--                     & 1                              & wolffj                         & wolffj                         & 358                            & Apr                            & 17                             & 17:02                          & AAAAAAAA\\_AAAAAATA\\_R1.fastq\\\\\n",
       "\t -rw-rw-r--                     & 1                              & wolffj                         & wolffj                         & 358                            & Apr                            & 17                             & 17:02                          & AAAAAAAA\\_AAAAAATA\\_R2.fastq\\\\\n",
       "\\end{tabular}\n"
      ],
      "text/markdown": [
       "\n",
       "V1 | V2 | V3 | V4 | V5 | V6 | V7 | V8 | V9 | \n",
       "|---|---|---|---|---|---|\n",
       "| -rw-rw-r--                 | 1                          | wolffj                     | wolffj                     | 33K                        | Apr                        | 17                         | 17:13                      | AAAAAAAA_AAAAAAAA_R1.fastq | \n",
       "| -rw-rw-r--                 | 1                          | wolffj                     | wolffj                     | 33K                        | Apr                        | 17                         | 17:13                      | AAAAAAAA_AAAAAAAA_R2.fastq | \n",
       "| -rw-rw-r--                 | 1                          | wolffj                     | wolffj                     | 359                        | Apr                        | 17                         | 17:06                      | AAAAAAAA_AAAAAAAT_R1.fastq | \n",
       "| -rw-rw-r--                 | 1                          | wolffj                     | wolffj                     | 359                        | Apr                        | 17                         | 17:06                      | AAAAAAAA_AAAAAAAT_R2.fastq | \n",
       "| -rw-rw-r--                 | 1                          | wolffj                     | wolffj                     | 358                        | Apr                        | 17                         | 17:02                      | AAAAAAAA_AAAAAATA_R1.fastq | \n",
       "| -rw-rw-r--                 | 1                          | wolffj                     | wolffj                     | 358                        | Apr                        | 17                         | 17:02                      | AAAAAAAA_AAAAAATA_R2.fastq | \n",
       "\n",
       "\n"
      ],
      "text/plain": [
       "  V1         V2 V3     V4     V5  V6  V7 V8    V9                        \n",
       "1 -rw-rw-r-- 1  wolffj wolffj 33K Apr 17 17:13 AAAAAAAA_AAAAAAAA_R1.fastq\n",
       "2 -rw-rw-r-- 1  wolffj wolffj 33K Apr 17 17:13 AAAAAAAA_AAAAAAAA_R2.fastq\n",
       "3 -rw-rw-r-- 1  wolffj wolffj 359 Apr 17 17:06 AAAAAAAA_AAAAAAAT_R1.fastq\n",
       "4 -rw-rw-r-- 1  wolffj wolffj 359 Apr 17 17:06 AAAAAAAA_AAAAAAAT_R2.fastq\n",
       "5 -rw-rw-r-- 1  wolffj wolffj 358 Apr 17 17:02 AAAAAAAA_AAAAAATA_R1.fastq\n",
       "6 -rw-rw-r-- 1  wolffj wolffj 358 Apr 17 17:02 AAAAAAAA_AAAAAATA_R2.fastq"
      ]
     },
     "metadata": {},
     "output_type": "display_data"
    },
    {
     "name": "stderr",
     "output_type": "stream",
     "text": [
      "Convert into a format we want:\n"
     ]
    },
    {
     "data": {
      "text/html": [
       "<table>\n",
       "<thead><tr><th scope=col>name</th><th scope=col>read</th><th scope=col>size</th></tr></thead>\n",
       "<tbody>\n",
       "\t<tr><td>AAAAAAAA_AAAAAAAA</td><td>R1               </td><td>33K              </td></tr>\n",
       "\t<tr><td>AAAAAAAA_AAAAAAAA</td><td>R2               </td><td>33K              </td></tr>\n",
       "\t<tr><td>AAAAAAAA_AAAAAAAT</td><td>R1               </td><td>359              </td></tr>\n",
       "\t<tr><td>AAAAAAAA_AAAAAAAT</td><td>R2               </td><td>359              </td></tr>\n",
       "\t<tr><td>AAAAAAAA_AAAAAATA</td><td>R1               </td><td>358              </td></tr>\n",
       "\t<tr><td>AAAAAAAA_AAAAAATA</td><td>R2               </td><td>358              </td></tr>\n",
       "</tbody>\n",
       "</table>\n"
      ],
      "text/latex": [
       "\\begin{tabular}{r|lll}\n",
       " name & read & size\\\\\n",
       "\\hline\n",
       "\t AAAAAAAA\\_AAAAAAAA & R1                  & 33K                \\\\\n",
       "\t AAAAAAAA\\_AAAAAAAA & R2                  & 33K                \\\\\n",
       "\t AAAAAAAA\\_AAAAAAAT & R1                  & 359                \\\\\n",
       "\t AAAAAAAA\\_AAAAAAAT & R2                  & 359                \\\\\n",
       "\t AAAAAAAA\\_AAAAAATA & R1                  & 358                \\\\\n",
       "\t AAAAAAAA\\_AAAAAATA & R2                  & 358                \\\\\n",
       "\\end{tabular}\n"
      ],
      "text/markdown": [
       "\n",
       "name | read | size | \n",
       "|---|---|---|---|---|---|\n",
       "| AAAAAAAA_AAAAAAAA | R1                | 33K               | \n",
       "| AAAAAAAA_AAAAAAAA | R2                | 33K               | \n",
       "| AAAAAAAA_AAAAAAAT | R1                | 359               | \n",
       "| AAAAAAAA_AAAAAAAT | R2                | 359               | \n",
       "| AAAAAAAA_AAAAAATA | R1                | 358               | \n",
       "| AAAAAAAA_AAAAAATA | R2                | 358               | \n",
       "\n",
       "\n"
      ],
      "text/plain": [
       "  name              read size\n",
       "1 AAAAAAAA_AAAAAAAA R1   33K \n",
       "2 AAAAAAAA_AAAAAAAA R2   33K \n",
       "3 AAAAAAAA_AAAAAAAT R1   359 \n",
       "4 AAAAAAAA_AAAAAAAT R2   359 \n",
       "5 AAAAAAAA_AAAAAATA R1   358 \n",
       "6 AAAAAAAA_AAAAAATA R2   358 "
      ]
     },
     "metadata": {},
     "output_type": "display_data"
    }
   ],
   "source": [
    "message(\"Full ls output:\")\n",
    "head(full)\n",
    "\n",
    "message(\"Convert into a format we want:\")\n",
    "full.bare <- full %>%\n",
    "    mutate(name=sub(\".fastq\",\"\",V9)) %>%\n",
    "    mutate(read=sub(\".*_.*_\",\"\",name)) %>%\n",
    "    mutate(name=sub(\"_R.*\",\"\",name)) %>%\n",
    "    select(name,read,size=V5)\n",
    "\n",
    "full.bare %>% head()"
   ]
  },
  {
   "cell_type": "code",
   "execution_count": 142,
   "metadata": {},
   "outputs": [
    {
     "name": "stderr",
     "output_type": "stream",
     "text": [
      "Barcodes output:\n"
     ]
    },
    {
     "data": {
      "text/html": [
       "<table>\n",
       "<thead><tr><th scope=col>V1</th><th scope=col>V2</th><th scope=col>V3</th><th scope=col>V4</th><th scope=col>V5</th><th scope=col>V6</th></tr></thead>\n",
       "<tbody>\n",
       "\t<tr><td>kDiploid_15_16_17_18</td><td>4363                </td><td>AGGCAGAA            </td><td>ACTGCATA            </td><td>1CDX4-3             </td><td>Diploid_18          </td></tr>\n",
       "\t<tr><td>Diploid_15_16_17_18 </td><td>4363                </td><td>AGGCAGAA            </td><td>CTCTCTAT            </td><td>1CDX1-3             </td><td>Diploid_15          </td></tr>\n",
       "\t<tr><td>Diploid_15_16_17_18 </td><td>4363                </td><td>AGGCAGAA            </td><td>GTAAGGAG            </td><td>1CDX3-3             </td><td>Diploid_17          </td></tr>\n",
       "\t<tr><td>Diploid_15_16_17_18 </td><td>4363                </td><td>AGGCAGAA            </td><td>TATCCTCT            </td><td>1CDX2-3             </td><td>Diploid_16          </td></tr>\n",
       "\t<tr><td>Diploid_15_16_17_18 </td><td>4363                </td><td>CGTACTAG            </td><td>ACTGCATA            </td><td>1CDX4-2             </td><td>Diploid_18          </td></tr>\n",
       "\t<tr><td>Diploid_15_16_17_18 </td><td>4363                </td><td>CGTACTAG            </td><td>CTCTCTAT            </td><td>1CDX1-2             </td><td>Diploid_15          </td></tr>\n",
       "</tbody>\n",
       "</table>\n"
      ],
      "text/latex": [
       "\\begin{tabular}{r|llllll}\n",
       " V1 & V2 & V3 & V4 & V5 & V6\\\\\n",
       "\\hline\n",
       "\t kDiploid\\_15\\_16\\_17\\_18 & 4363                         & AGGCAGAA                     & ACTGCATA                     & 1CDX4-3                      & Diploid\\_18                \\\\\n",
       "\t Diploid\\_15\\_16\\_17\\_18  & 4363                         & AGGCAGAA                     & CTCTCTAT                     & 1CDX1-3                      & Diploid\\_15                \\\\\n",
       "\t Diploid\\_15\\_16\\_17\\_18  & 4363                         & AGGCAGAA                     & GTAAGGAG                     & 1CDX3-3                      & Diploid\\_17                \\\\\n",
       "\t Diploid\\_15\\_16\\_17\\_18  & 4363                         & AGGCAGAA                     & TATCCTCT                     & 1CDX2-3                      & Diploid\\_16                \\\\\n",
       "\t Diploid\\_15\\_16\\_17\\_18  & 4363                         & CGTACTAG                     & ACTGCATA                     & 1CDX4-2                      & Diploid\\_18                \\\\\n",
       "\t Diploid\\_15\\_16\\_17\\_18  & 4363                         & CGTACTAG                     & CTCTCTAT                     & 1CDX1-2                      & Diploid\\_15                \\\\\n",
       "\\end{tabular}\n"
      ],
      "text/markdown": [
       "\n",
       "V1 | V2 | V3 | V4 | V5 | V6 | \n",
       "|---|---|---|---|---|---|\n",
       "| kDiploid_15_16_17_18 | 4363                 | AGGCAGAA             | ACTGCATA             | 1CDX4-3              | Diploid_18           | \n",
       "| Diploid_15_16_17_18  | 4363                 | AGGCAGAA             | CTCTCTAT             | 1CDX1-3              | Diploid_15           | \n",
       "| Diploid_15_16_17_18  | 4363                 | AGGCAGAA             | GTAAGGAG             | 1CDX3-3              | Diploid_17           | \n",
       "| Diploid_15_16_17_18  | 4363                 | AGGCAGAA             | TATCCTCT             | 1CDX2-3              | Diploid_16           | \n",
       "| Diploid_15_16_17_18  | 4363                 | CGTACTAG             | ACTGCATA             | 1CDX4-2              | Diploid_18           | \n",
       "| Diploid_15_16_17_18  | 4363                 | CGTACTAG             | CTCTCTAT             | 1CDX1-2              | Diploid_15           | \n",
       "\n",
       "\n"
      ],
      "text/plain": [
       "  V1                   V2   V3       V4       V5      V6        \n",
       "1 kDiploid_15_16_17_18 4363 AGGCAGAA ACTGCATA 1CDX4-3 Diploid_18\n",
       "2 Diploid_15_16_17_18  4363 AGGCAGAA CTCTCTAT 1CDX1-3 Diploid_15\n",
       "3 Diploid_15_16_17_18  4363 AGGCAGAA GTAAGGAG 1CDX3-3 Diploid_17\n",
       "4 Diploid_15_16_17_18  4363 AGGCAGAA TATCCTCT 1CDX2-3 Diploid_16\n",
       "5 Diploid_15_16_17_18  4363 CGTACTAG ACTGCATA 1CDX4-2 Diploid_18\n",
       "6 Diploid_15_16_17_18  4363 CGTACTAG CTCTCTAT 1CDX1-2 Diploid_15"
      ]
     },
     "metadata": {},
     "output_type": "display_data"
    },
    {
     "name": "stderr",
     "output_type": "stream",
     "text": [
      "Convert it into a format we want:\n"
     ]
    },
    {
     "data": {
      "text/html": [
       "<table>\n",
       "<thead><tr><th scope=col>wanted_name</th></tr></thead>\n",
       "<tbody>\n",
       "\t<tr><td>AGGCAGAA_ACTGCATA</td></tr>\n",
       "\t<tr><td>AGGCAGAA_CTCTCTAT</td></tr>\n",
       "\t<tr><td>AGGCAGAA_GTAAGGAG</td></tr>\n",
       "\t<tr><td>AGGCAGAA_TATCCTCT</td></tr>\n",
       "\t<tr><td>CGTACTAG_ACTGCATA</td></tr>\n",
       "\t<tr><td>CGTACTAG_CTCTCTAT</td></tr>\n",
       "</tbody>\n",
       "</table>\n"
      ],
      "text/latex": [
       "\\begin{tabular}{r|l}\n",
       " wanted\\_name\\\\\n",
       "\\hline\n",
       "\t AGGCAGAA\\_ACTGCATA\\\\\n",
       "\t AGGCAGAA\\_CTCTCTAT\\\\\n",
       "\t AGGCAGAA\\_GTAAGGAG\\\\\n",
       "\t AGGCAGAA\\_TATCCTCT\\\\\n",
       "\t CGTACTAG\\_ACTGCATA\\\\\n",
       "\t CGTACTAG\\_CTCTCTAT\\\\\n",
       "\\end{tabular}\n"
      ],
      "text/markdown": [
       "\n",
       "wanted_name | \n",
       "|---|---|---|---|---|---|\n",
       "| AGGCAGAA_ACTGCATA | \n",
       "| AGGCAGAA_CTCTCTAT | \n",
       "| AGGCAGAA_GTAAGGAG | \n",
       "| AGGCAGAA_TATCCTCT | \n",
       "| CGTACTAG_ACTGCATA | \n",
       "| CGTACTAG_CTCTCTAT | \n",
       "\n",
       "\n"
      ],
      "text/plain": [
       "  wanted_name      \n",
       "1 AGGCAGAA_ACTGCATA\n",
       "2 AGGCAGAA_CTCTCTAT\n",
       "3 AGGCAGAA_GTAAGGAG\n",
       "4 AGGCAGAA_TATCCTCT\n",
       "5 CGTACTAG_ACTGCATA\n",
       "6 CGTACTAG_CTCTCTAT"
      ]
     },
     "metadata": {},
     "output_type": "display_data"
    }
   ],
   "source": [
    "message(\"Barcodes output:\")\n",
    "head(wanted)\n",
    "\n",
    "message(\"Convert it into a format we want:\")\n",
    "want.bare <- wanted %>% mutate(wanted_name=paste(V3,\"_\",V4, sep=\"\"))  %>% select(wanted_name)\n",
    "want.bare %>% head()"
   ]
  },
  {
   "cell_type": "code",
   "execution_count": 143,
   "metadata": {},
   "outputs": [
    {
     "name": "stderr",
     "output_type": "stream",
     "text": [
      "Merge full set with wanted:\n"
     ]
    },
    {
     "data": {
      "text/html": [
       "<table>\n",
       "<thead><tr><th scope=col>name</th><th scope=col>read</th><th scope=col>size</th><th scope=col>wanted</th></tr></thead>\n",
       "<tbody>\n",
       "\t<tr><td>AGGCAGAA_ACTGCATA</td><td>R1               </td><td>189M             </td><td>TRUE             </td></tr>\n",
       "\t<tr><td>AGGCAGAA_ACTGCATA</td><td>R2               </td><td>189M             </td><td>TRUE             </td></tr>\n",
       "\t<tr><td>AGGCAGAA_CTCTCTAT</td><td>R1               </td><td>205M             </td><td>TRUE             </td></tr>\n",
       "\t<tr><td>AGGCAGAA_CTCTCTAT</td><td>R2               </td><td>205M             </td><td>TRUE             </td></tr>\n",
       "\t<tr><td>AGGCAGAA_GTAAGGAG</td><td>R1               </td><td>180M             </td><td>TRUE             </td></tr>\n",
       "\t<tr><td>AGGCAGAA_GTAAGGAG</td><td>R2               </td><td>180M             </td><td>TRUE             </td></tr>\n",
       "</tbody>\n",
       "</table>\n"
      ],
      "text/latex": [
       "\\begin{tabular}{r|llll}\n",
       " name & read & size & wanted\\\\\n",
       "\\hline\n",
       "\t AGGCAGAA\\_ACTGCATA & R1                  & 189M                & TRUE               \\\\\n",
       "\t AGGCAGAA\\_ACTGCATA & R2                  & 189M                & TRUE               \\\\\n",
       "\t AGGCAGAA\\_CTCTCTAT & R1                  & 205M                & TRUE               \\\\\n",
       "\t AGGCAGAA\\_CTCTCTAT & R2                  & 205M                & TRUE               \\\\\n",
       "\t AGGCAGAA\\_GTAAGGAG & R1                  & 180M                & TRUE               \\\\\n",
       "\t AGGCAGAA\\_GTAAGGAG & R2                  & 180M                & TRUE               \\\\\n",
       "\\end{tabular}\n"
      ],
      "text/markdown": [
       "\n",
       "name | read | size | wanted | \n",
       "|---|---|---|---|---|---|\n",
       "| AGGCAGAA_ACTGCATA | R1                | 189M              | TRUE              | \n",
       "| AGGCAGAA_ACTGCATA | R2                | 189M              | TRUE              | \n",
       "| AGGCAGAA_CTCTCTAT | R1                | 205M              | TRUE              | \n",
       "| AGGCAGAA_CTCTCTAT | R2                | 205M              | TRUE              | \n",
       "| AGGCAGAA_GTAAGGAG | R1                | 180M              | TRUE              | \n",
       "| AGGCAGAA_GTAAGGAG | R2                | 180M              | TRUE              | \n",
       "\n",
       "\n"
      ],
      "text/plain": [
       "  name              read size wanted\n",
       "1 AGGCAGAA_ACTGCATA R1   189M TRUE  \n",
       "2 AGGCAGAA_ACTGCATA R2   189M TRUE  \n",
       "3 AGGCAGAA_CTCTCTAT R1   205M TRUE  \n",
       "4 AGGCAGAA_CTCTCTAT R2   205M TRUE  \n",
       "5 AGGCAGAA_GTAAGGAG R1   180M TRUE  \n",
       "6 AGGCAGAA_GTAAGGAG R2   180M TRUE  "
      ]
     },
     "metadata": {},
     "output_type": "display_data"
    }
   ],
   "source": [
    "message(\"Merge full set with wanted:\")\n",
    "full <- full.bare %>% mutate(wanted=full.bare$name %in% want.bare$wanted_name) \n",
    "full %>% filter(wanted==T) %>% head()\n"
   ]
  },
  {
   "cell_type": "code",
   "execution_count": 144,
   "metadata": {},
   "outputs": [],
   "source": [
    "convSingle <- function(array, unit){\n",
    "    tmp = sub(\",\",\".\",array)\n",
    "    tmp = sub(unit,\"\",tmp)\n",
    "    tmp = as.numeric(tmp)\n",
    "    if (unit == \"K\"){\n",
    "        tmp = tmp * 1e3\n",
    "    } else if (unit == \"M\" ){\n",
    "        tmp = tmp * 1e6        \n",
    "    } else if (unit == \"G\" ){\n",
    "        tmp = tmp * 1e9        \n",
    "    }\n",
    "    return(tmp)\n",
    "}\n",
    "\n",
    "convAll <- function(array){\n",
    "    tmp <- array\n",
    "    tmp$bytes <- tmp$size\n",
    "    just.ks <- grepl(\"K\",tmp$bytes)\n",
    "    just.ms <- grepl(\"M\",tmp$bytes)\n",
    "    just.gs <- grepl(\"G\",tmp$bytes)\n",
    "    \n",
    "    vals.ks <- convSingle(tmp[just.ks,]$bytes, \"K\")\n",
    "    vals.ms <- convSingle(tmp[just.ms,]$bytes, \"M\")\n",
    "    vals.gs <- convSingle(tmp[just.gs,]$bytes, \"G\")\n",
    "    \n",
    "    tmp[just.ks,]$bytes <- vals.ks\n",
    "    tmp[just.ms,]$bytes <- vals.ms\n",
    "    tmp[just.gs,]$bytes <- vals.gs    \n",
    "    tmp$bytes <- as.numeric(tmp$bytes)\n",
    "    return(tmp)\n",
    "}"
   ]
  },
  {
   "cell_type": "code",
   "execution_count": 145,
   "metadata": {},
   "outputs": [
    {
     "name": "stderr",
     "output_type": "stream",
     "text": [
      "Convert all sizes into bytes\n"
     ]
    },
    {
     "data": {
      "text/html": [
       "<table>\n",
       "<thead><tr><th scope=col>name</th><th scope=col>read</th><th scope=col>size</th><th scope=col>wanted</th><th scope=col>bytes</th></tr></thead>\n",
       "<tbody>\n",
       "\t<tr><td>AAAAAAAA_AAAAAAAA</td><td>R1               </td><td>33K              </td><td>FALSE            </td><td>33000            </td></tr>\n",
       "\t<tr><td>AAAAAAAA_AAAAAAAA</td><td>R2               </td><td>33K              </td><td>FALSE            </td><td>33000            </td></tr>\n",
       "\t<tr><td>AAAAAAAA_AAAAAAAT</td><td>R1               </td><td>359              </td><td>FALSE            </td><td>  359            </td></tr>\n",
       "\t<tr><td>AAAAAAAA_AAAAAAAT</td><td>R2               </td><td>359              </td><td>FALSE            </td><td>  359            </td></tr>\n",
       "\t<tr><td>AAAAAAAA_AAAAAATA</td><td>R1               </td><td>358              </td><td>FALSE            </td><td>  358            </td></tr>\n",
       "\t<tr><td>AAAAAAAA_AAAAAATA</td><td>R2               </td><td>358              </td><td>FALSE            </td><td>  358            </td></tr>\n",
       "</tbody>\n",
       "</table>\n"
      ],
      "text/latex": [
       "\\begin{tabular}{r|lllll}\n",
       " name & read & size & wanted & bytes\\\\\n",
       "\\hline\n",
       "\t AAAAAAAA\\_AAAAAAAA & R1                  & 33K                 & FALSE               & 33000              \\\\\n",
       "\t AAAAAAAA\\_AAAAAAAA & R2                  & 33K                 & FALSE               & 33000              \\\\\n",
       "\t AAAAAAAA\\_AAAAAAAT & R1                  & 359                 & FALSE               &   359              \\\\\n",
       "\t AAAAAAAA\\_AAAAAAAT & R2                  & 359                 & FALSE               &   359              \\\\\n",
       "\t AAAAAAAA\\_AAAAAATA & R1                  & 358                 & FALSE               &   358              \\\\\n",
       "\t AAAAAAAA\\_AAAAAATA & R2                  & 358                 & FALSE               &   358              \\\\\n",
       "\\end{tabular}\n"
      ],
      "text/markdown": [
       "\n",
       "name | read | size | wanted | bytes | \n",
       "|---|---|---|---|---|---|\n",
       "| AAAAAAAA_AAAAAAAA | R1                | 33K               | FALSE             | 33000             | \n",
       "| AAAAAAAA_AAAAAAAA | R2                | 33K               | FALSE             | 33000             | \n",
       "| AAAAAAAA_AAAAAAAT | R1                | 359               | FALSE             |   359             | \n",
       "| AAAAAAAA_AAAAAAAT | R2                | 359               | FALSE             |   359             | \n",
       "| AAAAAAAA_AAAAAATA | R1                | 358               | FALSE             |   358             | \n",
       "| AAAAAAAA_AAAAAATA | R2                | 358               | FALSE             |   358             | \n",
       "\n",
       "\n"
      ],
      "text/plain": [
       "  name              read size wanted bytes\n",
       "1 AAAAAAAA_AAAAAAAA R1   33K  FALSE  33000\n",
       "2 AAAAAAAA_AAAAAAAA R2   33K  FALSE  33000\n",
       "3 AAAAAAAA_AAAAAAAT R1   359  FALSE    359\n",
       "4 AAAAAAAA_AAAAAAAT R2   359  FALSE    359\n",
       "5 AAAAAAAA_AAAAAATA R1   358  FALSE    358\n",
       "6 AAAAAAAA_AAAAAATA R2   358  FALSE    358"
      ]
     },
     "metadata": {},
     "output_type": "display_data"
    }
   ],
   "source": [
    "message(\"Convert all sizes into bytes\")\n",
    "full.n <- convAll(full)\n",
    "head(full.n)"
   ]
  },
  {
   "cell_type": "code",
   "execution_count": 190,
   "metadata": {},
   "outputs": [
    {
     "name": "stderr",
     "output_type": "stream",
     "text": [
      "Remove the unneeded size columns:\n"
     ]
    },
    {
     "data": {
      "text/html": [
       "<table>\n",
       "<thead><tr><th scope=col>name</th><th scope=col>wanted</th><th scope=col>read</th><th scope=col>bytes</th></tr></thead>\n",
       "<tbody>\n",
       "\t<tr><td>AAAAAAAA_AAAAAAAA</td><td>FALSE            </td><td>R1               </td><td>33000            </td></tr>\n",
       "\t<tr><td>AAAAAAAA_AAAAAAAA</td><td>FALSE            </td><td>R2               </td><td>33000            </td></tr>\n",
       "\t<tr><td>AAAAAAAA_AAAAAAAT</td><td>FALSE            </td><td>R1               </td><td>  359            </td></tr>\n",
       "\t<tr><td>AAAAAAAA_AAAAAAAT</td><td>FALSE            </td><td>R2               </td><td>  359            </td></tr>\n",
       "\t<tr><td>AAAAAAAA_AAAAAATA</td><td>FALSE            </td><td>R1               </td><td>  358            </td></tr>\n",
       "\t<tr><td>AAAAAAAA_AAAAAATA</td><td>FALSE            </td><td>R2               </td><td>  358            </td></tr>\n",
       "</tbody>\n",
       "</table>\n"
      ],
      "text/latex": [
       "\\begin{tabular}{r|llll}\n",
       " name & wanted & read & bytes\\\\\n",
       "\\hline\n",
       "\t AAAAAAAA\\_AAAAAAAA & FALSE               & R1                  & 33000              \\\\\n",
       "\t AAAAAAAA\\_AAAAAAAA & FALSE               & R2                  & 33000              \\\\\n",
       "\t AAAAAAAA\\_AAAAAAAT & FALSE               & R1                  &   359              \\\\\n",
       "\t AAAAAAAA\\_AAAAAAAT & FALSE               & R2                  &   359              \\\\\n",
       "\t AAAAAAAA\\_AAAAAATA & FALSE               & R1                  &   358              \\\\\n",
       "\t AAAAAAAA\\_AAAAAATA & FALSE               & R2                  &   358              \\\\\n",
       "\\end{tabular}\n"
      ],
      "text/markdown": [
       "\n",
       "name | wanted | read | bytes | \n",
       "|---|---|---|---|---|---|\n",
       "| AAAAAAAA_AAAAAAAA | FALSE             | R1                | 33000             | \n",
       "| AAAAAAAA_AAAAAAAA | FALSE             | R2                | 33000             | \n",
       "| AAAAAAAA_AAAAAAAT | FALSE             | R1                |   359             | \n",
       "| AAAAAAAA_AAAAAAAT | FALSE             | R2                |   359             | \n",
       "| AAAAAAAA_AAAAAATA | FALSE             | R1                |   358             | \n",
       "| AAAAAAAA_AAAAAATA | FALSE             | R2                |   358             | \n",
       "\n",
       "\n"
      ],
      "text/plain": [
       "  name              wanted read bytes\n",
       "1 AAAAAAAA_AAAAAAAA FALSE  R1   33000\n",
       "2 AAAAAAAA_AAAAAAAA FALSE  R2   33000\n",
       "3 AAAAAAAA_AAAAAAAT FALSE  R1     359\n",
       "4 AAAAAAAA_AAAAAAAT FALSE  R2     359\n",
       "5 AAAAAAAA_AAAAAATA FALSE  R1     358\n",
       "6 AAAAAAAA_AAAAAATA FALSE  R2     358"
      ]
     },
     "metadata": {},
     "output_type": "display_data"
    }
   ],
   "source": [
    "message(\"Remove the unneeded size columns:\")\n",
    "full <- full.n %>% select(name, wanted, read, bytes) #%>% mutate(fact=1)\n",
    "head(full)"
   ]
  },
  {
   "cell_type": "code",
   "execution_count": 230,
   "metadata": {},
   "outputs": [],
   "source": [
    "library(ggplot2)\n",
    "p <- ggplot(full, aes(x = \"Bytes\", color=factor(wanted),y=bytes, shape=factor(read)))"
   ]
  },
  {
   "cell_type": "code",
   "execution_count": 231,
   "metadata": {},
   "outputs": [
    {
     "data": {},
     "metadata": {},
     "output_type": "display_data"
    },
    {
     "data": {
      "image/png": "[encoded data removed]",
      "text/plain": [
       "plot without title"
      ]
     },
     "metadata": {},
     "output_type": "display_data"
    }
   ],
   "source": [
    "p + geom_jitter(position=position_jitter(0.2))"
   ]
  },
  {
   "cell_type": "code",
   "execution_count": 243,
   "metadata": {},
   "outputs": [
    {
     "name": "stderr",
     "output_type": "stream",
     "text": [
      "Are all wanted barcodes truly always above 1e08? Yes.\n"
     ]
    },
    {
     "data": {
      "text/html": [
       "<table>\n",
       "<thead><tr><th scope=col>name</th><th scope=col>wanted</th><th scope=col>read</th><th scope=col>bytes</th></tr></thead>\n",
       "<tbody>\n",
       "\t<tr><td>TCCTGAGC_GTAAGGAG</td><td>TRUE             </td><td>R1               </td><td>1.33e+08         </td></tr>\n",
       "\t<tr><td>TCCTGAGC_GTAAGGAG</td><td>TRUE             </td><td>R2               </td><td>1.33e+08         </td></tr>\n",
       "\t<tr><td>TAGGCATG_TATCCTCT</td><td>TRUE             </td><td>R1               </td><td>1.36e+08         </td></tr>\n",
       "\t<tr><td>TAGGCATG_TATCCTCT</td><td>TRUE             </td><td>R2               </td><td>1.36e+08         </td></tr>\n",
       "\t<tr><td>CGTACTAG_GTAAGGAG</td><td>TRUE             </td><td>R1               </td><td>1.52e+08         </td></tr>\n",
       "\t<tr><td>CGTACTAG_GTAAGGAG</td><td>TRUE             </td><td>R2               </td><td>1.52e+08         </td></tr>\n",
       "\t<tr><td>GGACTCCT_TATCCTCT</td><td>TRUE             </td><td>R1               </td><td>1.59e+08         </td></tr>\n",
       "\t<tr><td>GGACTCCT_TATCCTCT</td><td>TRUE             </td><td>R2               </td><td>1.59e+08         </td></tr>\n",
       "\t<tr><td>TAGGCATG_CTCTCTAT</td><td>TRUE             </td><td>R1               </td><td>1.59e+08         </td></tr>\n",
       "\t<tr><td>TAGGCATG_CTCTCTAT</td><td>TRUE             </td><td>R2               </td><td>1.59e+08         </td></tr>\n",
       "\t<tr><td>CGTACTAG_ACTGCATA</td><td>TRUE             </td><td>R1               </td><td>1.72e+08         </td></tr>\n",
       "\t<tr><td>CGTACTAG_ACTGCATA</td><td>TRUE             </td><td>R2               </td><td>1.72e+08         </td></tr>\n",
       "\t<tr><td>TAGGCATG_ACTGCATA</td><td>TRUE             </td><td>R1               </td><td>1.75e+08         </td></tr>\n",
       "\t<tr><td>TAGGCATG_ACTGCATA</td><td>TRUE             </td><td>R2               </td><td>1.75e+08         </td></tr>\n",
       "\t<tr><td>GGACTCCT_CTCTCTAT</td><td>TRUE             </td><td>R1               </td><td>1.77e+08         </td></tr>\n",
       "\t<tr><td>GGACTCCT_CTCTCTAT</td><td>TRUE             </td><td>R2               </td><td>1.77e+08         </td></tr>\n",
       "\t<tr><td>AGGCAGAA_GTAAGGAG</td><td>TRUE             </td><td>R1               </td><td>1.80e+08         </td></tr>\n",
       "\t<tr><td>AGGCAGAA_GTAAGGAG</td><td>TRUE             </td><td>R2               </td><td>1.80e+08         </td></tr>\n",
       "\t<tr><td>TAAGGCGA_GTAAGGAG</td><td>TRUE             </td><td>R1               </td><td>1.81e+08         </td></tr>\n",
       "\t<tr><td>TAAGGCGA_GTAAGGAG</td><td>TRUE             </td><td>R2               </td><td>1.81e+08         </td></tr>\n",
       "\t<tr><td>TAAGGCGA_TATCCTCT</td><td>TRUE             </td><td>R1               </td><td>1.82e+08         </td></tr>\n",
       "\t<tr><td>TAAGGCGA_TATCCTCT</td><td>TRUE             </td><td>R2               </td><td>1.82e+08         </td></tr>\n",
       "\t<tr><td>TCCTGAGC_ACTGCATA</td><td>TRUE             </td><td>R1               </td><td>1.87e+08         </td></tr>\n",
       "\t<tr><td>TCCTGAGC_ACTGCATA</td><td>TRUE             </td><td>R2               </td><td>1.87e+08         </td></tr>\n",
       "\t<tr><td>AGGCAGAA_ACTGCATA</td><td>TRUE             </td><td>R1               </td><td>1.89e+08         </td></tr>\n",
       "\t<tr><td>AGGCAGAA_ACTGCATA</td><td>TRUE             </td><td>R2               </td><td>1.89e+08         </td></tr>\n",
       "\t<tr><td>TAAGGCGA_ACTGCATA</td><td>TRUE             </td><td>R1               </td><td>1.91e+08         </td></tr>\n",
       "\t<tr><td>TAAGGCGA_ACTGCATA</td><td>TRUE             </td><td>R2               </td><td>1.91e+08         </td></tr>\n",
       "\t<tr><td>GGACTCCT_ACTGCATA</td><td>TRUE             </td><td>R1               </td><td>1.92e+08         </td></tr>\n",
       "\t<tr><td>GGACTCCT_ACTGCATA</td><td>TRUE             </td><td>R2               </td><td>1.92e+08         </td></tr>\n",
       "\t<tr><td>CGTACTAG_TATCCTCT</td><td>TRUE             </td><td>R1               </td><td>1.93e+08         </td></tr>\n",
       "\t<tr><td>CGTACTAG_TATCCTCT</td><td>TRUE             </td><td>R2               </td><td>1.93e+08         </td></tr>\n",
       "\t<tr><td>AGGCAGAA_CTCTCTAT</td><td>TRUE             </td><td>R1               </td><td>2.05e+08         </td></tr>\n",
       "\t<tr><td>AGGCAGAA_CTCTCTAT</td><td>TRUE             </td><td>R2               </td><td>2.05e+08         </td></tr>\n",
       "\t<tr><td>TAGGCATG_GTAAGGAG</td><td>TRUE             </td><td>R1               </td><td>2.07e+08         </td></tr>\n",
       "\t<tr><td>TAGGCATG_GTAAGGAG</td><td>TRUE             </td><td>R2               </td><td>2.07e+08         </td></tr>\n",
       "\t<tr><td>TCCTGAGC_CTCTCTAT</td><td>TRUE             </td><td>R1               </td><td>2.34e+08         </td></tr>\n",
       "\t<tr><td>TCCTGAGC_CTCTCTAT</td><td>TRUE             </td><td>R2               </td><td>2.34e+08         </td></tr>\n",
       "\t<tr><td>TCCTGAGC_TATCCTCT</td><td>TRUE             </td><td>R1               </td><td>2.40e+08         </td></tr>\n",
       "\t<tr><td>TCCTGAGC_TATCCTCT</td><td>TRUE             </td><td>R2               </td><td>2.40e+08         </td></tr>\n",
       "\t<tr><td>AGGCAGAA_TATCCTCT</td><td>TRUE             </td><td>R1               </td><td>2.62e+08         </td></tr>\n",
       "\t<tr><td>AGGCAGAA_TATCCTCT</td><td>TRUE             </td><td>R2               </td><td>2.62e+08         </td></tr>\n",
       "\t<tr><td>CGTACTAG_CTCTCTAT</td><td>TRUE             </td><td>R1               </td><td>3.04e+08         </td></tr>\n",
       "\t<tr><td>CGTACTAG_CTCTCTAT</td><td>TRUE             </td><td>R2               </td><td>3.04e+08         </td></tr>\n",
       "\t<tr><td>GGACTCCT_GTAAGGAG</td><td>TRUE             </td><td>R1               </td><td>3.26e+08         </td></tr>\n",
       "\t<tr><td>GGACTCCT_GTAAGGAG</td><td>TRUE             </td><td>R2               </td><td>3.26e+08         </td></tr>\n",
       "\t<tr><td>TAAGGCGA_CTCTCTAT</td><td>TRUE             </td><td>R1               </td><td>3.49e+08         </td></tr>\n",
       "\t<tr><td>TAAGGCGA_CTCTCTAT</td><td>TRUE             </td><td>R2               </td><td>3.49e+08         </td></tr>\n",
       "</tbody>\n",
       "</table>\n"
      ],
      "text/latex": [
       "\\begin{tabular}{r|llll}\n",
       " name & wanted & read & bytes\\\\\n",
       "\\hline\n",
       "\t TCCTGAGC\\_GTAAGGAG & TRUE                & R1                  & 1.33e+08           \\\\\n",
       "\t TCCTGAGC\\_GTAAGGAG & TRUE                & R2                  & 1.33e+08           \\\\\n",
       "\t TAGGCATG\\_TATCCTCT & TRUE                & R1                  & 1.36e+08           \\\\\n",
       "\t TAGGCATG\\_TATCCTCT & TRUE                & R2                  & 1.36e+08           \\\\\n",
       "\t CGTACTAG\\_GTAAGGAG & TRUE                & R1                  & 1.52e+08           \\\\\n",
       "\t CGTACTAG\\_GTAAGGAG & TRUE                & R2                  & 1.52e+08           \\\\\n",
       "\t GGACTCCT\\_TATCCTCT & TRUE                & R1                  & 1.59e+08           \\\\\n",
       "\t GGACTCCT\\_TATCCTCT & TRUE                & R2                  & 1.59e+08           \\\\\n",
       "\t TAGGCATG\\_CTCTCTAT & TRUE                & R1                  & 1.59e+08           \\\\\n",
       "\t TAGGCATG\\_CTCTCTAT & TRUE                & R2                  & 1.59e+08           \\\\\n",
       "\t CGTACTAG\\_ACTGCATA & TRUE                & R1                  & 1.72e+08           \\\\\n",
       "\t CGTACTAG\\_ACTGCATA & TRUE                & R2                  & 1.72e+08           \\\\\n",
       "\t TAGGCATG\\_ACTGCATA & TRUE                & R1                  & 1.75e+08           \\\\\n",
       "\t TAGGCATG\\_ACTGCATA & TRUE                & R2                  & 1.75e+08           \\\\\n",
       "\t GGACTCCT\\_CTCTCTAT & TRUE                & R1                  & 1.77e+08           \\\\\n",
       "\t GGACTCCT\\_CTCTCTAT & TRUE                & R2                  & 1.77e+08           \\\\\n",
       "\t AGGCAGAA\\_GTAAGGAG & TRUE                & R1                  & 1.80e+08           \\\\\n",
       "\t AGGCAGAA\\_GTAAGGAG & TRUE                & R2                  & 1.80e+08           \\\\\n",
       "\t TAAGGCGA\\_GTAAGGAG & TRUE                & R1                  & 1.81e+08           \\\\\n",
       "\t TAAGGCGA\\_GTAAGGAG & TRUE                & R2                  & 1.81e+08           \\\\\n",
       "\t TAAGGCGA\\_TATCCTCT & TRUE                & R1                  & 1.82e+08           \\\\\n",
       "\t TAAGGCGA\\_TATCCTCT & TRUE                & R2                  & 1.82e+08           \\\\\n",
       "\t TCCTGAGC\\_ACTGCATA & TRUE                & R1                  & 1.87e+08           \\\\\n",
       "\t TCCTGAGC\\_ACTGCATA & TRUE                & R2                  & 1.87e+08           \\\\\n",
       "\t AGGCAGAA\\_ACTGCATA & TRUE                & R1                  & 1.89e+08           \\\\\n",
       "\t AGGCAGAA\\_ACTGCATA & TRUE                & R2                  & 1.89e+08           \\\\\n",
       "\t TAAGGCGA\\_ACTGCATA & TRUE                & R1                  & 1.91e+08           \\\\\n",
       "\t TAAGGCGA\\_ACTGCATA & TRUE                & R2                  & 1.91e+08           \\\\\n",
       "\t GGACTCCT\\_ACTGCATA & TRUE                & R1                  & 1.92e+08           \\\\\n",
       "\t GGACTCCT\\_ACTGCATA & TRUE                & R2                  & 1.92e+08           \\\\\n",
       "\t CGTACTAG\\_TATCCTCT & TRUE                & R1                  & 1.93e+08           \\\\\n",
       "\t CGTACTAG\\_TATCCTCT & TRUE                & R2                  & 1.93e+08           \\\\\n",
       "\t AGGCAGAA\\_CTCTCTAT & TRUE                & R1                  & 2.05e+08           \\\\\n",
       "\t AGGCAGAA\\_CTCTCTAT & TRUE                & R2                  & 2.05e+08           \\\\\n",
       "\t TAGGCATG\\_GTAAGGAG & TRUE                & R1                  & 2.07e+08           \\\\\n",
       "\t TAGGCATG\\_GTAAGGAG & TRUE                & R2                  & 2.07e+08           \\\\\n",
       "\t TCCTGAGC\\_CTCTCTAT & TRUE                & R1                  & 2.34e+08           \\\\\n",
       "\t TCCTGAGC\\_CTCTCTAT & TRUE                & R2                  & 2.34e+08           \\\\\n",
       "\t TCCTGAGC\\_TATCCTCT & TRUE                & R1                  & 2.40e+08           \\\\\n",
       "\t TCCTGAGC\\_TATCCTCT & TRUE                & R2                  & 2.40e+08           \\\\\n",
       "\t AGGCAGAA\\_TATCCTCT & TRUE                & R1                  & 2.62e+08           \\\\\n",
       "\t AGGCAGAA\\_TATCCTCT & TRUE                & R2                  & 2.62e+08           \\\\\n",
       "\t CGTACTAG\\_CTCTCTAT & TRUE                & R1                  & 3.04e+08           \\\\\n",
       "\t CGTACTAG\\_CTCTCTAT & TRUE                & R2                  & 3.04e+08           \\\\\n",
       "\t GGACTCCT\\_GTAAGGAG & TRUE                & R1                  & 3.26e+08           \\\\\n",
       "\t GGACTCCT\\_GTAAGGAG & TRUE                & R2                  & 3.26e+08           \\\\\n",
       "\t TAAGGCGA\\_CTCTCTAT & TRUE                & R1                  & 3.49e+08           \\\\\n",
       "\t TAAGGCGA\\_CTCTCTAT & TRUE                & R2                  & 3.49e+08           \\\\\n",
       "\\end{tabular}\n"
      ],
      "text/markdown": [
       "\n",
       "name | wanted | read | bytes | \n",
       "|---|---|---|---|---|---|---|---|---|---|---|---|---|---|---|---|---|---|---|---|---|---|---|---|---|---|---|---|---|---|---|---|---|---|---|---|---|---|---|---|---|---|---|---|---|---|---|---|\n",
       "| TCCTGAGC_GTAAGGAG | TRUE              | R1                | 1.33e+08          | \n",
       "| TCCTGAGC_GTAAGGAG | TRUE              | R2                | 1.33e+08          | \n",
       "| TAGGCATG_TATCCTCT | TRUE              | R1                | 1.36e+08          | \n",
       "| TAGGCATG_TATCCTCT | TRUE              | R2                | 1.36e+08          | \n",
       "| CGTACTAG_GTAAGGAG | TRUE              | R1                | 1.52e+08          | \n",
       "| CGTACTAG_GTAAGGAG | TRUE              | R2                | 1.52e+08          | \n",
       "| GGACTCCT_TATCCTCT | TRUE              | R1                | 1.59e+08          | \n",
       "| GGACTCCT_TATCCTCT | TRUE              | R2                | 1.59e+08          | \n",
       "| TAGGCATG_CTCTCTAT | TRUE              | R1                | 1.59e+08          | \n",
       "| TAGGCATG_CTCTCTAT | TRUE              | R2                | 1.59e+08          | \n",
       "| CGTACTAG_ACTGCATA | TRUE              | R1                | 1.72e+08          | \n",
       "| CGTACTAG_ACTGCATA | TRUE              | R2                | 1.72e+08          | \n",
       "| TAGGCATG_ACTGCATA | TRUE              | R1                | 1.75e+08          | \n",
       "| TAGGCATG_ACTGCATA | TRUE              | R2                | 1.75e+08          | \n",
       "| GGACTCCT_CTCTCTAT | TRUE              | R1                | 1.77e+08          | \n",
       "| GGACTCCT_CTCTCTAT | TRUE              | R2                | 1.77e+08          | \n",
       "| AGGCAGAA_GTAAGGAG | TRUE              | R1                | 1.80e+08          | \n",
       "| AGGCAGAA_GTAAGGAG | TRUE              | R2                | 1.80e+08          | \n",
       "| TAAGGCGA_GTAAGGAG | TRUE              | R1                | 1.81e+08          | \n",
       "| TAAGGCGA_GTAAGGAG | TRUE              | R2                | 1.81e+08          | \n",
       "| TAAGGCGA_TATCCTCT | TRUE              | R1                | 1.82e+08          | \n",
       "| TAAGGCGA_TATCCTCT | TRUE              | R2                | 1.82e+08          | \n",
       "| TCCTGAGC_ACTGCATA | TRUE              | R1                | 1.87e+08          | \n",
       "| TCCTGAGC_ACTGCATA | TRUE              | R2                | 1.87e+08          | \n",
       "| AGGCAGAA_ACTGCATA | TRUE              | R1                | 1.89e+08          | \n",
       "| AGGCAGAA_ACTGCATA | TRUE              | R2                | 1.89e+08          | \n",
       "| TAAGGCGA_ACTGCATA | TRUE              | R1                | 1.91e+08          | \n",
       "| TAAGGCGA_ACTGCATA | TRUE              | R2                | 1.91e+08          | \n",
       "| GGACTCCT_ACTGCATA | TRUE              | R1                | 1.92e+08          | \n",
       "| GGACTCCT_ACTGCATA | TRUE              | R2                | 1.92e+08          | \n",
       "| CGTACTAG_TATCCTCT | TRUE              | R1                | 1.93e+08          | \n",
       "| CGTACTAG_TATCCTCT | TRUE              | R2                | 1.93e+08          | \n",
       "| AGGCAGAA_CTCTCTAT | TRUE              | R1                | 2.05e+08          | \n",
       "| AGGCAGAA_CTCTCTAT | TRUE              | R2                | 2.05e+08          | \n",
       "| TAGGCATG_GTAAGGAG | TRUE              | R1                | 2.07e+08          | \n",
       "| TAGGCATG_GTAAGGAG | TRUE              | R2                | 2.07e+08          | \n",
       "| TCCTGAGC_CTCTCTAT | TRUE              | R1                | 2.34e+08          | \n",
       "| TCCTGAGC_CTCTCTAT | TRUE              | R2                | 2.34e+08          | \n",
       "| TCCTGAGC_TATCCTCT | TRUE              | R1                | 2.40e+08          | \n",
       "| TCCTGAGC_TATCCTCT | TRUE              | R2                | 2.40e+08          | \n",
       "| AGGCAGAA_TATCCTCT | TRUE              | R1                | 2.62e+08          | \n",
       "| AGGCAGAA_TATCCTCT | TRUE              | R2                | 2.62e+08          | \n",
       "| CGTACTAG_CTCTCTAT | TRUE              | R1                | 3.04e+08          | \n",
       "| CGTACTAG_CTCTCTAT | TRUE              | R2                | 3.04e+08          | \n",
       "| GGACTCCT_GTAAGGAG | TRUE              | R1                | 3.26e+08          | \n",
       "| GGACTCCT_GTAAGGAG | TRUE              | R2                | 3.26e+08          | \n",
       "| TAAGGCGA_CTCTCTAT | TRUE              | R1                | 3.49e+08          | \n",
       "| TAAGGCGA_CTCTCTAT | TRUE              | R2                | 3.49e+08          | \n",
       "\n",
       "\n"
      ],
      "text/plain": [
       "   name              wanted read bytes   \n",
       "1  TCCTGAGC_GTAAGGAG TRUE   R1   1.33e+08\n",
       "2  TCCTGAGC_GTAAGGAG TRUE   R2   1.33e+08\n",
       "3  TAGGCATG_TATCCTCT TRUE   R1   1.36e+08\n",
       "4  TAGGCATG_TATCCTCT TRUE   R2   1.36e+08\n",
       "5  CGTACTAG_GTAAGGAG TRUE   R1   1.52e+08\n",
       "6  CGTACTAG_GTAAGGAG TRUE   R2   1.52e+08\n",
       "7  GGACTCCT_TATCCTCT TRUE   R1   1.59e+08\n",
       "8  GGACTCCT_TATCCTCT TRUE   R2   1.59e+08\n",
       "9  TAGGCATG_CTCTCTAT TRUE   R1   1.59e+08\n",
       "10 TAGGCATG_CTCTCTAT TRUE   R2   1.59e+08\n",
       "11 CGTACTAG_ACTGCATA TRUE   R1   1.72e+08\n",
       "12 CGTACTAG_ACTGCATA TRUE   R2   1.72e+08\n",
       "13 TAGGCATG_ACTGCATA TRUE   R1   1.75e+08\n",
       "14 TAGGCATG_ACTGCATA TRUE   R2   1.75e+08\n",
       "15 GGACTCCT_CTCTCTAT TRUE   R1   1.77e+08\n",
       "16 GGACTCCT_CTCTCTAT TRUE   R2   1.77e+08\n",
       "17 AGGCAGAA_GTAAGGAG TRUE   R1   1.80e+08\n",
       "18 AGGCAGAA_GTAAGGAG TRUE   R2   1.80e+08\n",
       "19 TAAGGCGA_GTAAGGAG TRUE   R1   1.81e+08\n",
       "20 TAAGGCGA_GTAAGGAG TRUE   R2   1.81e+08\n",
       "21 TAAGGCGA_TATCCTCT TRUE   R1   1.82e+08\n",
       "22 TAAGGCGA_TATCCTCT TRUE   R2   1.82e+08\n",
       "23 TCCTGAGC_ACTGCATA TRUE   R1   1.87e+08\n",
       "24 TCCTGAGC_ACTGCATA TRUE   R2   1.87e+08\n",
       "25 AGGCAGAA_ACTGCATA TRUE   R1   1.89e+08\n",
       "26 AGGCAGAA_ACTGCATA TRUE   R2   1.89e+08\n",
       "27 TAAGGCGA_ACTGCATA TRUE   R1   1.91e+08\n",
       "28 TAAGGCGA_ACTGCATA TRUE   R2   1.91e+08\n",
       "29 GGACTCCT_ACTGCATA TRUE   R1   1.92e+08\n",
       "30 GGACTCCT_ACTGCATA TRUE   R2   1.92e+08\n",
       "31 CGTACTAG_TATCCTCT TRUE   R1   1.93e+08\n",
       "32 CGTACTAG_TATCCTCT TRUE   R2   1.93e+08\n",
       "33 AGGCAGAA_CTCTCTAT TRUE   R1   2.05e+08\n",
       "34 AGGCAGAA_CTCTCTAT TRUE   R2   2.05e+08\n",
       "35 TAGGCATG_GTAAGGAG TRUE   R1   2.07e+08\n",
       "36 TAGGCATG_GTAAGGAG TRUE   R2   2.07e+08\n",
       "37 TCCTGAGC_CTCTCTAT TRUE   R1   2.34e+08\n",
       "38 TCCTGAGC_CTCTCTAT TRUE   R2   2.34e+08\n",
       "39 TCCTGAGC_TATCCTCT TRUE   R1   2.40e+08\n",
       "40 TCCTGAGC_TATCCTCT TRUE   R2   2.40e+08\n",
       "41 AGGCAGAA_TATCCTCT TRUE   R1   2.62e+08\n",
       "42 AGGCAGAA_TATCCTCT TRUE   R2   2.62e+08\n",
       "43 CGTACTAG_CTCTCTAT TRUE   R1   3.04e+08\n",
       "44 CGTACTAG_CTCTCTAT TRUE   R2   3.04e+08\n",
       "45 GGACTCCT_GTAAGGAG TRUE   R1   3.26e+08\n",
       "46 GGACTCCT_GTAAGGAG TRUE   R2   3.26e+08\n",
       "47 TAAGGCGA_CTCTCTAT TRUE   R1   3.49e+08\n",
       "48 TAAGGCGA_CTCTCTAT TRUE   R2   3.49e+08"
      ]
     },
     "metadata": {},
     "output_type": "display_data"
    }
   ],
   "source": [
    "message(\"Are all wanted barcodes truly always above 1e08? Yes.\")\n",
    "full %>% filter(wanted==T) %>% arrange(bytes)"
   ]
  }
 ],
 "metadata": {
  "kernelspec": {
   "display_name": "R",
   "language": "R",
   "name": "ir"
  },
  "language_info": {
   "codemirror_mode": "r",
   "file_extension": ".r",
   "mimetype": "text/x-r-source",
   "name": "R",
   "pygments_lexer": "r",
   "version": "3.5.1"
  },
  "toc": {
   "base_numbering": 1,
   "nav_menu": {},
   "number_sections": true,
   "sideBar": true,
   "skip_h1_title": false,
   "title_cell": "Table of Contents",
   "title_sidebar": "Contents",
   "toc_cell": false,
   "toc_position": {},
   "toc_section_display": true,
   "toc_window_display": false
  }
 },
 "nbformat": 4,
 "nbformat_minor": 2
}
